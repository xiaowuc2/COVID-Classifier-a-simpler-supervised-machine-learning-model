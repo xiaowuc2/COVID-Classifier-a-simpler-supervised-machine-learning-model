{
  "nbformat": 4,
  "nbformat_minor": 0,
  "metadata": {
    "colab": {
      "name": "Covid-19. predictionipynb",
      "provenance": [],
      "collapsed_sections": []
    },
    "kernelspec": {
      "name": "python3",
      "display_name": "Python 3"
    },
    "language_info": {
      "name": "python"
    }
  },
  "cells": [
    {
      "cell_type": "code",
      "metadata": {
        "colab": {
          "base_uri": "https://localhost:8080/"
        },
        "id": "4T4-WG-3IYtK",
        "outputId": "912a19c4-9877-4c12-9327-1bef2a70a2b2"
      },
      "source": [
        "from google.colab import drive\n",
        "drive.mount('/content/drive')"
      ],
      "execution_count": null,
      "outputs": [
        {
          "output_type": "stream",
          "name": "stdout",
          "text": [
            "Mounted at /content/drive\n"
          ]
        }
      ]
    },
    {
      "cell_type": "code",
      "metadata": {
        "id": "h4ayTgvGIZVc"
      },
      "source": [
        "import numpy as np\n",
        "import pandas as pd\n",
        "import seaborn as sns\n",
        "import matplotlib.pyplot as plt\n",
        "import tensorflow as tf\n",
        "from tensorflow import keras\n",
        "from tensorflow.keras import layers"
      ],
      "execution_count": null,
      "outputs": []
    },
    {
      "cell_type": "code",
      "metadata": {
        "id": "0z19cUrHIpdq"
      },
      "source": [
        "covid_data=pd.read_csv(\"/content/drive/MyDrive/Covid-19 Dataset/Covid Dataset.csv\")"
      ],
      "execution_count": null,
      "outputs": []
    },
    {
      "cell_type": "code",
      "metadata": {
        "colab": {
          "base_uri": "https://localhost:8080/",
          "height": 524
        },
        "id": "XIXz2QGZI2eT",
        "outputId": "0ce91e75-0b62-4c8b-cf67-fb6e2e57c2a0"
      },
      "source": [
        "covid_data"
      ],
      "execution_count": null,
      "outputs": [
        {
          "output_type": "execute_result",
          "data": {
            "text/html": [
              "<div>\n",
              "<style scoped>\n",
              "    .dataframe tbody tr th:only-of-type {\n",
              "        vertical-align: middle;\n",
              "    }\n",
              "\n",
              "    .dataframe tbody tr th {\n",
              "        vertical-align: top;\n",
              "    }\n",
              "\n",
              "    .dataframe thead th {\n",
              "        text-align: right;\n",
              "    }\n",
              "</style>\n",
              "<table border=\"1\" class=\"dataframe\">\n",
              "  <thead>\n",
              "    <tr style=\"text-align: right;\">\n",
              "      <th></th>\n",
              "      <th>Breathing Problem</th>\n",
              "      <th>Fever</th>\n",
              "      <th>Dry Cough</th>\n",
              "      <th>Sore throat</th>\n",
              "      <th>Running Nose</th>\n",
              "      <th>Asthma</th>\n",
              "      <th>Chronic Lung Disease</th>\n",
              "      <th>Headache</th>\n",
              "      <th>Heart Disease</th>\n",
              "      <th>Diabetes</th>\n",
              "      <th>Hyper Tension</th>\n",
              "      <th>Fatigue</th>\n",
              "      <th>Gastrointestinal</th>\n",
              "      <th>Abroad travel</th>\n",
              "      <th>Contact with COVID Patient</th>\n",
              "      <th>Attended Large Gathering</th>\n",
              "      <th>Visited Public Exposed Places</th>\n",
              "      <th>Family working in Public Exposed Places</th>\n",
              "      <th>Wearing Masks</th>\n",
              "      <th>Sanitization from Market</th>\n",
              "      <th>COVID-19</th>\n",
              "    </tr>\n",
              "  </thead>\n",
              "  <tbody>\n",
              "    <tr>\n",
              "      <th>0</th>\n",
              "      <td>Yes</td>\n",
              "      <td>Yes</td>\n",
              "      <td>Yes</td>\n",
              "      <td>Yes</td>\n",
              "      <td>Yes</td>\n",
              "      <td>No</td>\n",
              "      <td>No</td>\n",
              "      <td>No</td>\n",
              "      <td>No</td>\n",
              "      <td>Yes</td>\n",
              "      <td>Yes</td>\n",
              "      <td>Yes</td>\n",
              "      <td>Yes</td>\n",
              "      <td>No</td>\n",
              "      <td>Yes</td>\n",
              "      <td>No</td>\n",
              "      <td>Yes</td>\n",
              "      <td>Yes</td>\n",
              "      <td>No</td>\n",
              "      <td>No</td>\n",
              "      <td>Yes</td>\n",
              "    </tr>\n",
              "    <tr>\n",
              "      <th>1</th>\n",
              "      <td>Yes</td>\n",
              "      <td>Yes</td>\n",
              "      <td>Yes</td>\n",
              "      <td>Yes</td>\n",
              "      <td>No</td>\n",
              "      <td>Yes</td>\n",
              "      <td>Yes</td>\n",
              "      <td>Yes</td>\n",
              "      <td>No</td>\n",
              "      <td>No</td>\n",
              "      <td>No</td>\n",
              "      <td>Yes</td>\n",
              "      <td>No</td>\n",
              "      <td>No</td>\n",
              "      <td>No</td>\n",
              "      <td>Yes</td>\n",
              "      <td>Yes</td>\n",
              "      <td>No</td>\n",
              "      <td>No</td>\n",
              "      <td>No</td>\n",
              "      <td>Yes</td>\n",
              "    </tr>\n",
              "    <tr>\n",
              "      <th>2</th>\n",
              "      <td>Yes</td>\n",
              "      <td>Yes</td>\n",
              "      <td>Yes</td>\n",
              "      <td>Yes</td>\n",
              "      <td>Yes</td>\n",
              "      <td>Yes</td>\n",
              "      <td>Yes</td>\n",
              "      <td>Yes</td>\n",
              "      <td>No</td>\n",
              "      <td>Yes</td>\n",
              "      <td>No</td>\n",
              "      <td>Yes</td>\n",
              "      <td>Yes</td>\n",
              "      <td>Yes</td>\n",
              "      <td>No</td>\n",
              "      <td>No</td>\n",
              "      <td>No</td>\n",
              "      <td>No</td>\n",
              "      <td>No</td>\n",
              "      <td>No</td>\n",
              "      <td>Yes</td>\n",
              "    </tr>\n",
              "    <tr>\n",
              "      <th>3</th>\n",
              "      <td>Yes</td>\n",
              "      <td>Yes</td>\n",
              "      <td>Yes</td>\n",
              "      <td>No</td>\n",
              "      <td>No</td>\n",
              "      <td>Yes</td>\n",
              "      <td>No</td>\n",
              "      <td>No</td>\n",
              "      <td>Yes</td>\n",
              "      <td>Yes</td>\n",
              "      <td>No</td>\n",
              "      <td>No</td>\n",
              "      <td>No</td>\n",
              "      <td>Yes</td>\n",
              "      <td>No</td>\n",
              "      <td>Yes</td>\n",
              "      <td>Yes</td>\n",
              "      <td>No</td>\n",
              "      <td>No</td>\n",
              "      <td>No</td>\n",
              "      <td>Yes</td>\n",
              "    </tr>\n",
              "    <tr>\n",
              "      <th>4</th>\n",
              "      <td>Yes</td>\n",
              "      <td>Yes</td>\n",
              "      <td>Yes</td>\n",
              "      <td>Yes</td>\n",
              "      <td>Yes</td>\n",
              "      <td>No</td>\n",
              "      <td>Yes</td>\n",
              "      <td>Yes</td>\n",
              "      <td>Yes</td>\n",
              "      <td>Yes</td>\n",
              "      <td>Yes</td>\n",
              "      <td>No</td>\n",
              "      <td>Yes</td>\n",
              "      <td>No</td>\n",
              "      <td>Yes</td>\n",
              "      <td>No</td>\n",
              "      <td>Yes</td>\n",
              "      <td>No</td>\n",
              "      <td>No</td>\n",
              "      <td>No</td>\n",
              "      <td>Yes</td>\n",
              "    </tr>\n",
              "    <tr>\n",
              "      <th>...</th>\n",
              "      <td>...</td>\n",
              "      <td>...</td>\n",
              "      <td>...</td>\n",
              "      <td>...</td>\n",
              "      <td>...</td>\n",
              "      <td>...</td>\n",
              "      <td>...</td>\n",
              "      <td>...</td>\n",
              "      <td>...</td>\n",
              "      <td>...</td>\n",
              "      <td>...</td>\n",
              "      <td>...</td>\n",
              "      <td>...</td>\n",
              "      <td>...</td>\n",
              "      <td>...</td>\n",
              "      <td>...</td>\n",
              "      <td>...</td>\n",
              "      <td>...</td>\n",
              "      <td>...</td>\n",
              "      <td>...</td>\n",
              "      <td>...</td>\n",
              "    </tr>\n",
              "    <tr>\n",
              "      <th>5429</th>\n",
              "      <td>Yes</td>\n",
              "      <td>Yes</td>\n",
              "      <td>No</td>\n",
              "      <td>Yes</td>\n",
              "      <td>Yes</td>\n",
              "      <td>Yes</td>\n",
              "      <td>Yes</td>\n",
              "      <td>No</td>\n",
              "      <td>No</td>\n",
              "      <td>No</td>\n",
              "      <td>No</td>\n",
              "      <td>Yes</td>\n",
              "      <td>Yes</td>\n",
              "      <td>No</td>\n",
              "      <td>No</td>\n",
              "      <td>No</td>\n",
              "      <td>No</td>\n",
              "      <td>No</td>\n",
              "      <td>No</td>\n",
              "      <td>No</td>\n",
              "      <td>Yes</td>\n",
              "    </tr>\n",
              "    <tr>\n",
              "      <th>5430</th>\n",
              "      <td>Yes</td>\n",
              "      <td>Yes</td>\n",
              "      <td>Yes</td>\n",
              "      <td>No</td>\n",
              "      <td>Yes</td>\n",
              "      <td>Yes</td>\n",
              "      <td>No</td>\n",
              "      <td>Yes</td>\n",
              "      <td>No</td>\n",
              "      <td>Yes</td>\n",
              "      <td>Yes</td>\n",
              "      <td>Yes</td>\n",
              "      <td>No</td>\n",
              "      <td>No</td>\n",
              "      <td>No</td>\n",
              "      <td>No</td>\n",
              "      <td>No</td>\n",
              "      <td>No</td>\n",
              "      <td>No</td>\n",
              "      <td>No</td>\n",
              "      <td>Yes</td>\n",
              "    </tr>\n",
              "    <tr>\n",
              "      <th>5431</th>\n",
              "      <td>Yes</td>\n",
              "      <td>Yes</td>\n",
              "      <td>Yes</td>\n",
              "      <td>No</td>\n",
              "      <td>No</td>\n",
              "      <td>No</td>\n",
              "      <td>No</td>\n",
              "      <td>No</td>\n",
              "      <td>Yes</td>\n",
              "      <td>No</td>\n",
              "      <td>Yes</td>\n",
              "      <td>No</td>\n",
              "      <td>No</td>\n",
              "      <td>No</td>\n",
              "      <td>No</td>\n",
              "      <td>No</td>\n",
              "      <td>No</td>\n",
              "      <td>No</td>\n",
              "      <td>No</td>\n",
              "      <td>No</td>\n",
              "      <td>No</td>\n",
              "    </tr>\n",
              "    <tr>\n",
              "      <th>5432</th>\n",
              "      <td>Yes</td>\n",
              "      <td>Yes</td>\n",
              "      <td>Yes</td>\n",
              "      <td>No</td>\n",
              "      <td>Yes</td>\n",
              "      <td>No</td>\n",
              "      <td>No</td>\n",
              "      <td>Yes</td>\n",
              "      <td>Yes</td>\n",
              "      <td>No</td>\n",
              "      <td>No</td>\n",
              "      <td>No</td>\n",
              "      <td>No</td>\n",
              "      <td>No</td>\n",
              "      <td>No</td>\n",
              "      <td>No</td>\n",
              "      <td>No</td>\n",
              "      <td>No</td>\n",
              "      <td>No</td>\n",
              "      <td>No</td>\n",
              "      <td>No</td>\n",
              "    </tr>\n",
              "    <tr>\n",
              "      <th>5433</th>\n",
              "      <td>Yes</td>\n",
              "      <td>Yes</td>\n",
              "      <td>Yes</td>\n",
              "      <td>No</td>\n",
              "      <td>Yes</td>\n",
              "      <td>Yes</td>\n",
              "      <td>No</td>\n",
              "      <td>Yes</td>\n",
              "      <td>No</td>\n",
              "      <td>Yes</td>\n",
              "      <td>Yes</td>\n",
              "      <td>Yes</td>\n",
              "      <td>No</td>\n",
              "      <td>No</td>\n",
              "      <td>No</td>\n",
              "      <td>No</td>\n",
              "      <td>No</td>\n",
              "      <td>No</td>\n",
              "      <td>No</td>\n",
              "      <td>No</td>\n",
              "      <td>No</td>\n",
              "    </tr>\n",
              "  </tbody>\n",
              "</table>\n",
              "<p>5434 rows × 21 columns</p>\n",
              "</div>"
            ],
            "text/plain": [
              "     Breathing Problem Fever  ... Sanitization from Market COVID-19\n",
              "0                  Yes   Yes  ...                       No      Yes\n",
              "1                  Yes   Yes  ...                       No      Yes\n",
              "2                  Yes   Yes  ...                       No      Yes\n",
              "3                  Yes   Yes  ...                       No      Yes\n",
              "4                  Yes   Yes  ...                       No      Yes\n",
              "...                ...   ...  ...                      ...      ...\n",
              "5429               Yes   Yes  ...                       No      Yes\n",
              "5430               Yes   Yes  ...                       No      Yes\n",
              "5431               Yes   Yes  ...                       No       No\n",
              "5432               Yes   Yes  ...                       No       No\n",
              "5433               Yes   Yes  ...                       No       No\n",
              "\n",
              "[5434 rows x 21 columns]"
            ]
          },
          "metadata": {},
          "execution_count": 4
        }
      ]
    },
    {
      "cell_type": "code",
      "metadata": {
        "id": "ayaIYPPHI3yi",
        "colab": {
          "base_uri": "https://localhost:8080/"
        },
        "outputId": "24a919c0-5fd4-4fed-f1cd-a84f747d3be2"
      },
      "source": [
        "covid_data.shape[1]"
      ],
      "execution_count": null,
      "outputs": [
        {
          "output_type": "execute_result",
          "data": {
            "text/plain": [
              "21"
            ]
          },
          "metadata": {},
          "execution_count": 5
        }
      ]
    },
    {
      "cell_type": "code",
      "metadata": {
        "colab": {
          "base_uri": "https://localhost:8080/"
        },
        "id": "MNVjvv1FJtG6",
        "outputId": "fe07b334-2459-40d5-8383-60ae7a9a1449"
      },
      "source": [
        "covid_data.isnull().sum()"
      ],
      "execution_count": null,
      "outputs": [
        {
          "output_type": "execute_result",
          "data": {
            "text/plain": [
              "Breathing Problem                          0\n",
              "Fever                                      0\n",
              "Dry Cough                                  0\n",
              "Sore throat                                0\n",
              "Running Nose                               0\n",
              "Asthma                                     0\n",
              "Chronic Lung Disease                       0\n",
              "Headache                                   0\n",
              "Heart Disease                              0\n",
              "Diabetes                                   0\n",
              "Hyper Tension                              0\n",
              "Fatigue                                    0\n",
              "Gastrointestinal                           0\n",
              "Abroad travel                              0\n",
              "Contact with COVID Patient                 0\n",
              "Attended Large Gathering                   0\n",
              "Visited Public Exposed Places              0\n",
              "Family working in Public Exposed Places    0\n",
              "Wearing Masks                              0\n",
              "Sanitization from Market                   0\n",
              "COVID-19                                   0\n",
              "dtype: int64"
            ]
          },
          "metadata": {},
          "execution_count": 6
        }
      ]
    },
    {
      "cell_type": "code",
      "metadata": {
        "colab": {
          "base_uri": "https://localhost:8080/"
        },
        "id": "kLyir1aobC-D",
        "outputId": "bad57328-4068-4c0e-c23f-488b5c29d804"
      },
      "source": [
        "covid_data.shape"
      ],
      "execution_count": null,
      "outputs": [
        {
          "output_type": "execute_result",
          "data": {
            "text/plain": [
              "(5434, 21)"
            ]
          },
          "metadata": {},
          "execution_count": 7
        }
      ]
    },
    {
      "cell_type": "code",
      "metadata": {
        "colab": {
          "base_uri": "https://localhost:8080/",
          "height": 701
        },
        "id": "f0aWbeMBLMeh",
        "outputId": "8dc1e7d7-a6e4-4e58-ebcd-ca03c6459b07"
      },
      "source": [
        "covid_data.describe().transpose()"
      ],
      "execution_count": null,
      "outputs": [
        {
          "output_type": "execute_result",
          "data": {
            "text/html": [
              "<div>\n",
              "<style scoped>\n",
              "    .dataframe tbody tr th:only-of-type {\n",
              "        vertical-align: middle;\n",
              "    }\n",
              "\n",
              "    .dataframe tbody tr th {\n",
              "        vertical-align: top;\n",
              "    }\n",
              "\n",
              "    .dataframe thead th {\n",
              "        text-align: right;\n",
              "    }\n",
              "</style>\n",
              "<table border=\"1\" class=\"dataframe\">\n",
              "  <thead>\n",
              "    <tr style=\"text-align: right;\">\n",
              "      <th></th>\n",
              "      <th>count</th>\n",
              "      <th>unique</th>\n",
              "      <th>top</th>\n",
              "      <th>freq</th>\n",
              "    </tr>\n",
              "  </thead>\n",
              "  <tbody>\n",
              "    <tr>\n",
              "      <th>Breathing Problem</th>\n",
              "      <td>5434</td>\n",
              "      <td>2</td>\n",
              "      <td>Yes</td>\n",
              "      <td>3620</td>\n",
              "    </tr>\n",
              "    <tr>\n",
              "      <th>Fever</th>\n",
              "      <td>5434</td>\n",
              "      <td>2</td>\n",
              "      <td>Yes</td>\n",
              "      <td>4273</td>\n",
              "    </tr>\n",
              "    <tr>\n",
              "      <th>Dry Cough</th>\n",
              "      <td>5434</td>\n",
              "      <td>2</td>\n",
              "      <td>Yes</td>\n",
              "      <td>4307</td>\n",
              "    </tr>\n",
              "    <tr>\n",
              "      <th>Sore throat</th>\n",
              "      <td>5434</td>\n",
              "      <td>2</td>\n",
              "      <td>Yes</td>\n",
              "      <td>3953</td>\n",
              "    </tr>\n",
              "    <tr>\n",
              "      <th>Running Nose</th>\n",
              "      <td>5434</td>\n",
              "      <td>2</td>\n",
              "      <td>Yes</td>\n",
              "      <td>2952</td>\n",
              "    </tr>\n",
              "    <tr>\n",
              "      <th>Asthma</th>\n",
              "      <td>5434</td>\n",
              "      <td>2</td>\n",
              "      <td>No</td>\n",
              "      <td>2920</td>\n",
              "    </tr>\n",
              "    <tr>\n",
              "      <th>Chronic Lung Disease</th>\n",
              "      <td>5434</td>\n",
              "      <td>2</td>\n",
              "      <td>No</td>\n",
              "      <td>2869</td>\n",
              "    </tr>\n",
              "    <tr>\n",
              "      <th>Headache</th>\n",
              "      <td>5434</td>\n",
              "      <td>2</td>\n",
              "      <td>Yes</td>\n",
              "      <td>2736</td>\n",
              "    </tr>\n",
              "    <tr>\n",
              "      <th>Heart Disease</th>\n",
              "      <td>5434</td>\n",
              "      <td>2</td>\n",
              "      <td>No</td>\n",
              "      <td>2911</td>\n",
              "    </tr>\n",
              "    <tr>\n",
              "      <th>Diabetes</th>\n",
              "      <td>5434</td>\n",
              "      <td>2</td>\n",
              "      <td>No</td>\n",
              "      <td>2846</td>\n",
              "    </tr>\n",
              "    <tr>\n",
              "      <th>Hyper Tension</th>\n",
              "      <td>5434</td>\n",
              "      <td>2</td>\n",
              "      <td>No</td>\n",
              "      <td>2771</td>\n",
              "    </tr>\n",
              "    <tr>\n",
              "      <th>Fatigue</th>\n",
              "      <td>5434</td>\n",
              "      <td>2</td>\n",
              "      <td>Yes</td>\n",
              "      <td>2821</td>\n",
              "    </tr>\n",
              "    <tr>\n",
              "      <th>Gastrointestinal</th>\n",
              "      <td>5434</td>\n",
              "      <td>2</td>\n",
              "      <td>No</td>\n",
              "      <td>2883</td>\n",
              "    </tr>\n",
              "    <tr>\n",
              "      <th>Abroad travel</th>\n",
              "      <td>5434</td>\n",
              "      <td>2</td>\n",
              "      <td>No</td>\n",
              "      <td>2983</td>\n",
              "    </tr>\n",
              "    <tr>\n",
              "      <th>Contact with COVID Patient</th>\n",
              "      <td>5434</td>\n",
              "      <td>2</td>\n",
              "      <td>Yes</td>\n",
              "      <td>2726</td>\n",
              "    </tr>\n",
              "    <tr>\n",
              "      <th>Attended Large Gathering</th>\n",
              "      <td>5434</td>\n",
              "      <td>2</td>\n",
              "      <td>No</td>\n",
              "      <td>2924</td>\n",
              "    </tr>\n",
              "    <tr>\n",
              "      <th>Visited Public Exposed Places</th>\n",
              "      <td>5434</td>\n",
              "      <td>2</td>\n",
              "      <td>Yes</td>\n",
              "      <td>2820</td>\n",
              "    </tr>\n",
              "    <tr>\n",
              "      <th>Family working in Public Exposed Places</th>\n",
              "      <td>5434</td>\n",
              "      <td>2</td>\n",
              "      <td>No</td>\n",
              "      <td>3172</td>\n",
              "    </tr>\n",
              "    <tr>\n",
              "      <th>Wearing Masks</th>\n",
              "      <td>5434</td>\n",
              "      <td>1</td>\n",
              "      <td>No</td>\n",
              "      <td>5434</td>\n",
              "    </tr>\n",
              "    <tr>\n",
              "      <th>Sanitization from Market</th>\n",
              "      <td>5434</td>\n",
              "      <td>1</td>\n",
              "      <td>No</td>\n",
              "      <td>5434</td>\n",
              "    </tr>\n",
              "    <tr>\n",
              "      <th>COVID-19</th>\n",
              "      <td>5434</td>\n",
              "      <td>2</td>\n",
              "      <td>Yes</td>\n",
              "      <td>4383</td>\n",
              "    </tr>\n",
              "  </tbody>\n",
              "</table>\n",
              "</div>"
            ],
            "text/plain": [
              "                                        count unique  top  freq\n",
              "Breathing Problem                        5434      2  Yes  3620\n",
              "Fever                                    5434      2  Yes  4273\n",
              "Dry Cough                                5434      2  Yes  4307\n",
              "Sore throat                              5434      2  Yes  3953\n",
              "Running Nose                             5434      2  Yes  2952\n",
              "Asthma                                   5434      2   No  2920\n",
              "Chronic Lung Disease                     5434      2   No  2869\n",
              "Headache                                 5434      2  Yes  2736\n",
              "Heart Disease                            5434      2   No  2911\n",
              "Diabetes                                 5434      2   No  2846\n",
              "Hyper Tension                            5434      2   No  2771\n",
              "Fatigue                                  5434      2  Yes  2821\n",
              "Gastrointestinal                         5434      2   No  2883\n",
              "Abroad travel                            5434      2   No  2983\n",
              "Contact with COVID Patient               5434      2  Yes  2726\n",
              "Attended Large Gathering                 5434      2   No  2924\n",
              "Visited Public Exposed Places            5434      2  Yes  2820\n",
              "Family working in Public Exposed Places  5434      2   No  3172\n",
              "Wearing Masks                            5434      1   No  5434\n",
              "Sanitization from Market                 5434      1   No  5434\n",
              "COVID-19                                 5434      2  Yes  4383"
            ]
          },
          "metadata": {},
          "execution_count": 8
        }
      ]
    },
    {
      "cell_type": "code",
      "metadata": {
        "colab": {
          "base_uri": "https://localhost:8080/"
        },
        "id": "-5NlRnddJ876",
        "outputId": "bc78f3ba-4aa3-4371-b63d-19ecdf368cb9"
      },
      "source": [
        "covid_data['COVID-19'].unique()"
      ],
      "execution_count": null,
      "outputs": [
        {
          "output_type": "execute_result",
          "data": {
            "text/plain": [
              "array(['Yes', 'No'], dtype=object)"
            ]
          },
          "metadata": {},
          "execution_count": 9
        }
      ]
    },
    {
      "cell_type": "code",
      "metadata": {
        "colab": {
          "base_uri": "https://localhost:8080/",
          "height": 279
        },
        "id": "Oq0pUGWNKNYq",
        "outputId": "8f7cc3fe-b752-41ec-d49a-9c9ddd6c8fdc"
      },
      "source": [
        "sns.countplot(x='COVID-19',data=covid_data)\n",
        "plt.show()"
      ],
      "execution_count": null,
      "outputs": [
        {
          "output_type": "display_data",
          "data": {
            "image/png": "[encoded data removed]",
            "text/plain": [
              "<Figure size 432x288 with 1 Axes>"
            ]
          },
          "metadata": {
            "needs_background": "light"
          }
        }
      ]
    },
    {
      "cell_type": "code",
      "metadata": {
        "id": "M8InlrVHOZ4y"
      },
      "source": [
        "def func(d):\n",
        "  if d=='Yes':\n",
        "    return 1;\n",
        "  else:\n",
        "    return 0;  "
      ],
      "execution_count": null,
      "outputs": []
    },
    {
      "cell_type": "code",
      "metadata": {
        "id": "h5SaUDPaRFeJ"
      },
      "source": [
        "for column in covid_data:\n",
        "  covid_data[column]=covid_data[column].apply(func)\n"
      ],
      "execution_count": null,
      "outputs": []
    },
    {
      "cell_type": "code",
      "metadata": {
        "colab": {
          "base_uri": "https://localhost:8080/",
          "height": 310
        },
        "id": "OthkQPOqRR0P",
        "outputId": "7b03ea3d-d6e9-49f7-85a6-107e2c402ede"
      },
      "source": [
        "covid_data.head()"
      ],
      "execution_count": null,
      "outputs": [
        {
          "output_type": "execute_result",
          "data": {
            "text/html": [
              "<div>\n",
              "<style scoped>\n",
              "    .dataframe tbody tr th:only-of-type {\n",
              "        vertical-align: middle;\n",
              "    }\n",
              "\n",
              "    .dataframe tbody tr th {\n",
              "        vertical-align: top;\n",
              "    }\n",
              "\n",
              "    .dataframe thead th {\n",
              "        text-align: right;\n",
              "    }\n",
              "</style>\n",
              "<table border=\"1\" class=\"dataframe\">\n",
              "  <thead>\n",
              "    <tr style=\"text-align: right;\">\n",
              "      <th></th>\n",
              "      <th>Breathing Problem</th>\n",
              "      <th>Fever</th>\n",
              "      <th>Dry Cough</th>\n",
              "      <th>Sore throat</th>\n",
              "      <th>Running Nose</th>\n",
              "      <th>Asthma</th>\n",
              "      <th>Chronic Lung Disease</th>\n",
              "      <th>Headache</th>\n",
              "      <th>Heart Disease</th>\n",
              "      <th>Diabetes</th>\n",
              "      <th>Hyper Tension</th>\n",
              "      <th>Fatigue</th>\n",
              "      <th>Gastrointestinal</th>\n",
              "      <th>Abroad travel</th>\n",
              "      <th>Contact with COVID Patient</th>\n",
              "      <th>Attended Large Gathering</th>\n",
              "      <th>Visited Public Exposed Places</th>\n",
              "      <th>Family working in Public Exposed Places</th>\n",
              "      <th>Wearing Masks</th>\n",
              "      <th>Sanitization from Market</th>\n",
              "      <th>COVID-19</th>\n",
              "    </tr>\n",
              "  </thead>\n",
              "  <tbody>\n",
              "    <tr>\n",
              "      <th>0</th>\n",
              "      <td>1</td>\n",
              "      <td>1</td>\n",
              "      <td>1</td>\n",
              "      <td>1</td>\n",
              "      <td>1</td>\n",
              "      <td>0</td>\n",
              "      <td>0</td>\n",
              "      <td>0</td>\n",
              "      <td>0</td>\n",
              "      <td>1</td>\n",
              "      <td>1</td>\n",
              "      <td>1</td>\n",
              "      <td>1</td>\n",
              "      <td>0</td>\n",
              "      <td>1</td>\n",
              "      <td>0</td>\n",
              "      <td>1</td>\n",
              "      <td>1</td>\n",
              "      <td>0</td>\n",
              "      <td>0</td>\n",
              "      <td>1</td>\n",
              "    </tr>\n",
              "    <tr>\n",
              "      <th>1</th>\n",
              "      <td>1</td>\n",
              "      <td>1</td>\n",
              "      <td>1</td>\n",
              "      <td>1</td>\n",
              "      <td>0</td>\n",
              "      <td>1</td>\n",
              "      <td>1</td>\n",
              "      <td>1</td>\n",
              "      <td>0</td>\n",
              "      <td>0</td>\n",
              "      <td>0</td>\n",
              "      <td>1</td>\n",
              "      <td>0</td>\n",
              "      <td>0</td>\n",
              "      <td>0</td>\n",
              "      <td>1</td>\n",
              "      <td>1</td>\n",
              "      <td>0</td>\n",
              "      <td>0</td>\n",
              "      <td>0</td>\n",
              "      <td>1</td>\n",
              "    </tr>\n",
              "    <tr>\n",
              "      <th>2</th>\n",
              "      <td>1</td>\n",
              "      <td>1</td>\n",
              "      <td>1</td>\n",
              "      <td>1</td>\n",
              "      <td>1</td>\n",
              "      <td>1</td>\n",
              "      <td>1</td>\n",
              "      <td>1</td>\n",
              "      <td>0</td>\n",
              "      <td>1</td>\n",
              "      <td>0</td>\n",
              "      <td>1</td>\n",
              "      <td>1</td>\n",
              "      <td>1</td>\n",
              "      <td>0</td>\n",
              "      <td>0</td>\n",
              "      <td>0</td>\n",
              "      <td>0</td>\n",
              "      <td>0</td>\n",
              "      <td>0</td>\n",
              "      <td>1</td>\n",
              "    </tr>\n",
              "    <tr>\n",
              "      <th>3</th>\n",
              "      <td>1</td>\n",
              "      <td>1</td>\n",
              "      <td>1</td>\n",
              "      <td>0</td>\n",
              "      <td>0</td>\n",
              "      <td>1</td>\n",
              "      <td>0</td>\n",
              "      <td>0</td>\n",
              "      <td>1</td>\n",
              "      <td>1</td>\n",
              "      <td>0</td>\n",
              "      <td>0</td>\n",
              "      <td>0</td>\n",
              "      <td>1</td>\n",
              "      <td>0</td>\n",
              "      <td>1</td>\n",
              "      <td>1</td>\n",
              "      <td>0</td>\n",
              "      <td>0</td>\n",
              "      <td>0</td>\n",
              "      <td>1</td>\n",
              "    </tr>\n",
              "    <tr>\n",
              "      <th>4</th>\n",
              "      <td>1</td>\n",
              "      <td>1</td>\n",
              "      <td>1</td>\n",
              "      <td>1</td>\n",
              "      <td>1</td>\n",
              "      <td>0</td>\n",
              "      <td>1</td>\n",
              "      <td>1</td>\n",
              "      <td>1</td>\n",
              "      <td>1</td>\n",
              "      <td>1</td>\n",
              "      <td>0</td>\n",
              "      <td>1</td>\n",
              "      <td>0</td>\n",
              "      <td>1</td>\n",
              "      <td>0</td>\n",
              "      <td>1</td>\n",
              "      <td>0</td>\n",
              "      <td>0</td>\n",
              "      <td>0</td>\n",
              "      <td>1</td>\n",
              "    </tr>\n",
              "  </tbody>\n",
              "</table>\n",
              "</div>"
            ],
            "text/plain": [
              "   Breathing Problem  Fever  ...  Sanitization from Market  COVID-19\n",
              "0                  1      1  ...                         0         1\n",
              "1                  1      1  ...                         0         1\n",
              "2                  1      1  ...                         0         1\n",
              "3                  1      1  ...                         0         1\n",
              "4                  1      1  ...                         0         1\n",
              "\n",
              "[5 rows x 21 columns]"
            ]
          },
          "metadata": {},
          "execution_count": 13
        }
      ]
    },
    {
      "cell_type": "code",
      "metadata": {
        "id": "Vh_P0zUaS6WB"
      },
      "source": [
        "train_dataset = covid_data.sample(frac=0.8,random_state=0)\n",
        "test_dataset = covid_data.drop(covid_data[\"COVID-19\"])"
      ],
      "execution_count": null,
      "outputs": []
    },
    {
      "cell_type": "code",
      "metadata": {
        "id": "ieEgx5PCWc-q"
      },
      "source": [
        "train_labels = train_dataset.pop('COVID-19')\n",
        "test_labels = test_dataset.pop('COVID-19')"
      ],
      "execution_count": null,
      "outputs": []
    },
    {
      "cell_type": "code",
      "metadata": {
        "colab": {
          "base_uri": "https://localhost:8080/"
        },
        "id": "rNJBut59XTMb",
        "outputId": "e63f037f-1a8c-44ad-da2a-51cd10f650c5"
      },
      "source": [
        "train_labels"
      ],
      "execution_count": null,
      "outputs": [
        {
          "output_type": "execute_result",
          "data": {
            "text/plain": [
              "5145    1\n",
              "502     1\n",
              "2550    1\n",
              "2260    1\n",
              "3641    1\n",
              "       ..\n",
              "814     1\n",
              "2256    1\n",
              "4072    1\n",
              "4112    0\n",
              "2020    1\n",
              "Name: COVID-19, Length: 4347, dtype: int64"
            ]
          },
          "metadata": {},
          "execution_count": 16
        }
      ]
    },
    {
      "cell_type": "code",
      "metadata": {
        "colab": {
          "base_uri": "https://localhost:8080/"
        },
        "id": "d7InH9Elavrs",
        "outputId": "ac4fe28d-029a-4e59-aff6-282264f2c5c8"
      },
      "source": [
        "train_dataset.shape"
      ],
      "execution_count": null,
      "outputs": [
        {
          "output_type": "execute_result",
          "data": {
            "text/plain": [
              "(4347, 20)"
            ]
          },
          "metadata": {},
          "execution_count": 17
        }
      ]
    },
    {
      "cell_type": "code",
      "metadata": {
        "colab": {
          "base_uri": "https://localhost:8080/"
        },
        "id": "9rbLZYqza3vv",
        "outputId": "556c7613-99a6-4b32-8815-64af3b838790"
      },
      "source": [
        "test_dataset.shape"
      ],
      "execution_count": null,
      "outputs": [
        {
          "output_type": "execute_result",
          "data": {
            "text/plain": [
              "(5432, 20)"
            ]
          },
          "metadata": {},
          "execution_count": 18
        }
      ]
    },
    {
      "cell_type": "code",
      "metadata": {
        "id": "5Ei8wmW3XXBw"
      },
      "source": [
        "model=keras.Sequential([layers.Dense(64,activation='relu',input_shape=[len(train_dataset.keys())]),\n",
        "keras.layers.Dense(14,activation='relu'),\n",
        "keras.layers.Dense(104,activation='relu'),\n",
        "keras.layers.Dense(144,activation='relu'),\n",
        "keras.layers.Dense(1,activation='sigmoid')\n",
        "])"
      ],
      "execution_count": null,
      "outputs": []
    },
    {
      "cell_type": "code",
      "metadata": {
        "id": "ERaHjWNWXmju"
      },
      "source": [
        "model.compile(optimizer='adam',\n",
        "              loss='binary_crossentropy',\n",
        "              metrics=['accuracy'])"
      ],
      "execution_count": null,
      "outputs": []
    },
    {
      "cell_type": "code",
      "metadata": {
        "colab": {
          "base_uri": "https://localhost:8080/"
        },
        "id": "1h_gjmKpYImF",
        "outputId": "6d0d1ea2-eb05-4599-a4e9-0e38f91ec91a"
      },
      "source": [
        "model.fit(train_dataset,train_labels,epochs=100)"
      ],
      "execution_count": null,
      "outputs": [
        {
          "output_type": "stream",
          "name": "stdout",
          "text": [
            "Epoch 1/100\n",
            "136/136 [==============================] - 1s 2ms/step - loss: 0.2380 - accuracy: 0.8981\n",
            "Epoch 2/100\n",
            "136/136 [==============================] - 0s 2ms/step - loss: 0.0741 - accuracy: 0.9696\n",
            "Epoch 3/100\n",
            "136/136 [==============================] - 0s 2ms/step - loss: 0.0556 - accuracy: 0.9752\n",
            "Epoch 4/100\n",
            "136/136 [==============================] - 0s 2ms/step - loss: 0.0509 - accuracy: 0.9761\n",
            "Epoch 5/100\n",
            "136/136 [==============================] - 0s 2ms/step - loss: 0.0467 - accuracy: 0.9791\n",
            "Epoch 6/100\n",
            "136/136 [==============================] - 0s 2ms/step - loss: 0.0425 - accuracy: 0.9807\n",
            "Epoch 7/100\n",
            "136/136 [==============================] - 0s 2ms/step - loss: 0.0460 - accuracy: 0.9781\n",
            "Epoch 8/100\n",
            "136/136 [==============================] - 0s 2ms/step - loss: 0.0415 - accuracy: 0.9800\n",
            "Epoch 9/100\n",
            "136/136 [==============================] - 0s 2ms/step - loss: 0.0395 - accuracy: 0.9798\n",
            "Epoch 10/100\n",
            "136/136 [==============================] - 0s 2ms/step - loss: 0.0416 - accuracy: 0.9821\n",
            "Epoch 11/100\n",
            "136/136 [==============================] - 0s 2ms/step - loss: 0.0392 - accuracy: 0.9777\n",
            "Epoch 12/100\n",
            "136/136 [==============================] - 0s 2ms/step - loss: 0.0394 - accuracy: 0.9768\n",
            "Epoch 13/100\n",
            "136/136 [==============================] - 0s 2ms/step - loss: 0.0408 - accuracy: 0.9795\n",
            "Epoch 14/100\n",
            "136/136 [==============================] - 0s 2ms/step - loss: 0.0381 - accuracy: 0.9811\n",
            "Epoch 15/100\n",
            "136/136 [==============================] - 0s 2ms/step - loss: 0.0372 - accuracy: 0.9809\n",
            "Epoch 16/100\n",
            "136/136 [==============================] - 0s 2ms/step - loss: 0.0373 - accuracy: 0.9821\n",
            "Epoch 17/100\n",
            "136/136 [==============================] - 0s 2ms/step - loss: 0.0371 - accuracy: 0.9795\n",
            "Epoch 18/100\n",
            "136/136 [==============================] - 0s 2ms/step - loss: 0.0355 - accuracy: 0.9809\n",
            "Epoch 19/100\n",
            "136/136 [==============================] - 0s 2ms/step - loss: 0.0350 - accuracy: 0.9809\n",
            "Epoch 20/100\n",
            "136/136 [==============================] - 0s 2ms/step - loss: 0.0347 - accuracy: 0.9809\n",
            "Epoch 21/100\n",
            "136/136 [==============================] - 0s 2ms/step - loss: 0.0370 - accuracy: 0.9814\n",
            "Epoch 22/100\n",
            "136/136 [==============================] - 0s 2ms/step - loss: 0.0347 - accuracy: 0.9825\n",
            "Epoch 23/100\n",
            "136/136 [==============================] - 0s 2ms/step - loss: 0.0352 - accuracy: 0.9804\n",
            "Epoch 24/100\n",
            "136/136 [==============================] - 0s 2ms/step - loss: 0.0352 - accuracy: 0.9804\n",
            "Epoch 25/100\n",
            "136/136 [==============================] - 0s 2ms/step - loss: 0.0351 - accuracy: 0.9818\n",
            "Epoch 26/100\n",
            "136/136 [==============================] - 0s 2ms/step - loss: 0.0339 - accuracy: 0.9807\n",
            "Epoch 27/100\n",
            "136/136 [==============================] - 0s 2ms/step - loss: 0.0358 - accuracy: 0.9816\n",
            "Epoch 28/100\n",
            "136/136 [==============================] - 0s 2ms/step - loss: 0.0343 - accuracy: 0.9818\n",
            "Epoch 29/100\n",
            "136/136 [==============================] - 0s 2ms/step - loss: 0.0371 - accuracy: 0.9800\n",
            "Epoch 30/100\n",
            "136/136 [==============================] - 0s 2ms/step - loss: 0.0343 - accuracy: 0.9816\n",
            "Epoch 31/100\n",
            "136/136 [==============================] - 0s 2ms/step - loss: 0.0338 - accuracy: 0.9816\n",
            "Epoch 32/100\n",
            "136/136 [==============================] - 0s 2ms/step - loss: 0.0337 - accuracy: 0.9816\n",
            "Epoch 33/100\n",
            "136/136 [==============================] - 0s 2ms/step - loss: 0.0361 - accuracy: 0.9814\n",
            "Epoch 34/100\n",
            "136/136 [==============================] - 0s 2ms/step - loss: 0.0351 - accuracy: 0.9804\n",
            "Epoch 35/100\n",
            "136/136 [==============================] - 0s 2ms/step - loss: 0.0347 - accuracy: 0.9818\n",
            "Epoch 36/100\n",
            "136/136 [==============================] - 0s 2ms/step - loss: 0.0338 - accuracy: 0.9814\n",
            "Epoch 37/100\n",
            "136/136 [==============================] - 0s 2ms/step - loss: 0.0335 - accuracy: 0.9823\n",
            "Epoch 38/100\n",
            "136/136 [==============================] - 0s 2ms/step - loss: 0.0334 - accuracy: 0.9811\n",
            "Epoch 39/100\n",
            "136/136 [==============================] - 0s 2ms/step - loss: 0.0334 - accuracy: 0.9825\n",
            "Epoch 40/100\n",
            "136/136 [==============================] - 0s 2ms/step - loss: 0.0334 - accuracy: 0.9811\n",
            "Epoch 41/100\n",
            "136/136 [==============================] - 0s 2ms/step - loss: 0.0332 - accuracy: 0.9821\n",
            "Epoch 42/100\n",
            "136/136 [==============================] - 0s 2ms/step - loss: 0.0332 - accuracy: 0.9823\n",
            "Epoch 43/100\n",
            "136/136 [==============================] - 0s 2ms/step - loss: 0.0332 - accuracy: 0.9825\n",
            "Epoch 44/100\n",
            "136/136 [==============================] - 0s 2ms/step - loss: 0.0336 - accuracy: 0.9821\n",
            "Epoch 45/100\n",
            "136/136 [==============================] - 0s 2ms/step - loss: 0.0340 - accuracy: 0.9816\n",
            "Epoch 46/100\n",
            "136/136 [==============================] - 0s 2ms/step - loss: 0.0331 - accuracy: 0.9823\n",
            "Epoch 47/100\n",
            "136/136 [==============================] - 0s 2ms/step - loss: 0.0334 - accuracy: 0.9798\n",
            "Epoch 48/100\n",
            "136/136 [==============================] - 0s 2ms/step - loss: 0.0333 - accuracy: 0.9827\n",
            "Epoch 49/100\n",
            "136/136 [==============================] - 0s 2ms/step - loss: 0.0335 - accuracy: 0.9807\n",
            "Epoch 50/100\n",
            "136/136 [==============================] - 0s 2ms/step - loss: 0.0336 - accuracy: 0.9811\n",
            "Epoch 51/100\n",
            "136/136 [==============================] - 0s 2ms/step - loss: 0.0331 - accuracy: 0.9821\n",
            "Epoch 52/100\n",
            "136/136 [==============================] - 0s 2ms/step - loss: 0.0331 - accuracy: 0.9821\n",
            "Epoch 53/100\n",
            "136/136 [==============================] - 0s 2ms/step - loss: 0.0331 - accuracy: 0.9814\n",
            "Epoch 54/100\n",
            "136/136 [==============================] - 0s 2ms/step - loss: 0.0329 - accuracy: 0.9825\n",
            "Epoch 55/100\n",
            "136/136 [==============================] - 0s 2ms/step - loss: 0.0330 - accuracy: 0.9823\n",
            "Epoch 56/100\n",
            "136/136 [==============================] - 0s 2ms/step - loss: 0.0337 - accuracy: 0.9821\n",
            "Epoch 57/100\n",
            "136/136 [==============================] - 0s 2ms/step - loss: 0.0331 - accuracy: 0.9821\n",
            "Epoch 58/100\n",
            "136/136 [==============================] - 0s 2ms/step - loss: 0.0333 - accuracy: 0.9827\n",
            "Epoch 59/100\n",
            "136/136 [==============================] - 0s 2ms/step - loss: 0.0338 - accuracy: 0.9802\n",
            "Epoch 60/100\n",
            "136/136 [==============================] - 0s 2ms/step - loss: 0.0334 - accuracy: 0.9825\n",
            "Epoch 61/100\n",
            "136/136 [==============================] - 0s 2ms/step - loss: 0.0489 - accuracy: 0.9809\n",
            "Epoch 62/100\n",
            "136/136 [==============================] - 0s 2ms/step - loss: 0.0423 - accuracy: 0.9793\n",
            "Epoch 63/100\n",
            "136/136 [==============================] - 0s 2ms/step - loss: 0.0381 - accuracy: 0.9804\n",
            "Epoch 64/100\n",
            "136/136 [==============================] - 0s 2ms/step - loss: 0.0337 - accuracy: 0.9823\n",
            "Epoch 65/100\n",
            "136/136 [==============================] - 0s 2ms/step - loss: 0.0332 - accuracy: 0.9814\n",
            "Epoch 66/100\n",
            "136/136 [==============================] - 0s 2ms/step - loss: 0.0329 - accuracy: 0.9823\n",
            "Epoch 67/100\n",
            "136/136 [==============================] - 0s 2ms/step - loss: 0.0329 - accuracy: 0.9814\n",
            "Epoch 68/100\n",
            "136/136 [==============================] - 0s 2ms/step - loss: 0.0331 - accuracy: 0.9827\n",
            "Epoch 69/100\n",
            "136/136 [==============================] - 0s 2ms/step - loss: 0.0330 - accuracy: 0.9827\n",
            "Epoch 70/100\n",
            "136/136 [==============================] - 0s 2ms/step - loss: 0.0331 - accuracy: 0.9811\n",
            "Epoch 71/100\n",
            "136/136 [==============================] - 0s 2ms/step - loss: 0.0329 - accuracy: 0.9816\n",
            "Epoch 72/100\n",
            "136/136 [==============================] - 0s 2ms/step - loss: 0.0328 - accuracy: 0.9825\n",
            "Epoch 73/100\n",
            "136/136 [==============================] - 0s 2ms/step - loss: 0.0328 - accuracy: 0.9827\n",
            "Epoch 74/100\n",
            "136/136 [==============================] - 0s 2ms/step - loss: 0.0330 - accuracy: 0.9821\n",
            "Epoch 75/100\n",
            "136/136 [==============================] - 0s 2ms/step - loss: 0.0330 - accuracy: 0.9825\n",
            "Epoch 76/100\n",
            "136/136 [==============================] - 0s 2ms/step - loss: 0.0329 - accuracy: 0.9825\n",
            "Epoch 77/100\n",
            "136/136 [==============================] - 0s 2ms/step - loss: 0.0331 - accuracy: 0.9816\n",
            "Epoch 78/100\n",
            "136/136 [==============================] - 0s 2ms/step - loss: 0.0328 - accuracy: 0.9823\n",
            "Epoch 79/100\n",
            "136/136 [==============================] - 0s 2ms/step - loss: 0.0329 - accuracy: 0.9811\n",
            "Epoch 80/100\n",
            "136/136 [==============================] - 0s 2ms/step - loss: 0.0328 - accuracy: 0.9827\n",
            "Epoch 81/100\n",
            "136/136 [==============================] - 0s 2ms/step - loss: 0.0330 - accuracy: 0.9823\n",
            "Epoch 82/100\n",
            "136/136 [==============================] - 0s 2ms/step - loss: 0.0328 - accuracy: 0.9821\n",
            "Epoch 83/100\n",
            "136/136 [==============================] - 0s 2ms/step - loss: 0.0329 - accuracy: 0.9811\n",
            "Epoch 84/100\n",
            "136/136 [==============================] - 0s 2ms/step - loss: 0.0330 - accuracy: 0.9827\n",
            "Epoch 85/100\n",
            "136/136 [==============================] - 0s 2ms/step - loss: 0.0331 - accuracy: 0.9827\n",
            "Epoch 86/100\n",
            "136/136 [==============================] - 0s 2ms/step - loss: 0.0330 - accuracy: 0.9823\n",
            "Epoch 87/100\n",
            "136/136 [==============================] - 0s 2ms/step - loss: 0.0329 - accuracy: 0.9821\n",
            "Epoch 88/100\n",
            "136/136 [==============================] - 0s 2ms/step - loss: 0.0328 - accuracy: 0.9827\n",
            "Epoch 89/100\n",
            "136/136 [==============================] - 0s 2ms/step - loss: 0.0329 - accuracy: 0.9825\n",
            "Epoch 90/100\n",
            "136/136 [==============================] - 0s 2ms/step - loss: 0.0329 - accuracy: 0.9821\n",
            "Epoch 91/100\n",
            "136/136 [==============================] - 0s 2ms/step - loss: 0.0327 - accuracy: 0.9827\n",
            "Epoch 92/100\n",
            "136/136 [==============================] - 0s 2ms/step - loss: 0.0330 - accuracy: 0.9827\n",
            "Epoch 93/100\n",
            "136/136 [==============================] - 0s 2ms/step - loss: 0.0329 - accuracy: 0.9821\n",
            "Epoch 94/100\n",
            "136/136 [==============================] - 0s 2ms/step - loss: 0.0330 - accuracy: 0.9823\n",
            "Epoch 95/100\n",
            "136/136 [==============================] - 0s 2ms/step - loss: 0.0338 - accuracy: 0.9827\n",
            "Epoch 96/100\n",
            "136/136 [==============================] - 0s 2ms/step - loss: 0.0551 - accuracy: 0.9770\n",
            "Epoch 97/100\n",
            "136/136 [==============================] - 0s 2ms/step - loss: 0.0367 - accuracy: 0.9807\n",
            "Epoch 98/100\n",
            "136/136 [==============================] - 0s 2ms/step - loss: 0.0334 - accuracy: 0.9816\n",
            "Epoch 99/100\n",
            "136/136 [==============================] - 0s 2ms/step - loss: 0.0328 - accuracy: 0.9821\n",
            "Epoch 100/100\n",
            "136/136 [==============================] - 0s 2ms/step - loss: 0.0329 - accuracy: 0.9827\n"
          ]
        },
        {
          "output_type": "execute_result",
          "data": {
            "text/plain": [
              "<keras.callbacks.History at 0x7f6136087650>"
            ]
          },
          "metadata": {},
          "execution_count": 21
        }
      ]
    },
    {
      "cell_type": "code",
      "metadata": {
        "colab": {
          "base_uri": "https://localhost:8080/"
        },
        "id": "7fcJ_B0yYPdd",
        "outputId": "32f07d5a-df02-4e0f-a7b7-8066e1d070b8"
      },
      "source": [
        "test_loss,test_acc = model.evaluate(test_dataset,test_labels)"
      ],
      "execution_count": null,
      "outputs": [
        {
          "output_type": "stream",
          "name": "stdout",
          "text": [
            "170/170 [==============================] - 0s 1ms/step - loss: 0.0321 - accuracy: 0.9827\n"
          ]
        }
      ]
    },
    {
      "cell_type": "code",
      "metadata": {
        "colab": {
          "base_uri": "https://localhost:8080/",
          "height": 524
        },
        "id": "inOefhYzEOGP",
        "outputId": "617d9c41-9df3-4526-e01e-d9b67d59e88d"
      },
      "source": [
        "test_dataset"
      ],
      "execution_count": null,
      "outputs": [
        {
          "output_type": "execute_result",
          "data": {
            "text/html": [
              "<div>\n",
              "<style scoped>\n",
              "    .dataframe tbody tr th:only-of-type {\n",
              "        vertical-align: middle;\n",
              "    }\n",
              "\n",
              "    .dataframe tbody tr th {\n",
              "        vertical-align: top;\n",
              "    }\n",
              "\n",
              "    .dataframe thead th {\n",
              "        text-align: right;\n",
              "    }\n",
              "</style>\n",
              "<table border=\"1\" class=\"dataframe\">\n",
              "  <thead>\n",
              "    <tr style=\"text-align: right;\">\n",
              "      <th></th>\n",
              "      <th>Breathing Problem</th>\n",
              "      <th>Fever</th>\n",
              "      <th>Dry Cough</th>\n",
              "      <th>Sore throat</th>\n",
              "      <th>Running Nose</th>\n",
              "      <th>Asthma</th>\n",
              "      <th>Chronic Lung Disease</th>\n",
              "      <th>Headache</th>\n",
              "      <th>Heart Disease</th>\n",
              "      <th>Diabetes</th>\n",
              "      <th>Hyper Tension</th>\n",
              "      <th>Fatigue</th>\n",
              "      <th>Gastrointestinal</th>\n",
              "      <th>Abroad travel</th>\n",
              "      <th>Contact with COVID Patient</th>\n",
              "      <th>Attended Large Gathering</th>\n",
              "      <th>Visited Public Exposed Places</th>\n",
              "      <th>Family working in Public Exposed Places</th>\n",
              "      <th>Wearing Masks</th>\n",
              "      <th>Sanitization from Market</th>\n",
              "    </tr>\n",
              "  </thead>\n",
              "  <tbody>\n",
              "    <tr>\n",
              "      <th>2</th>\n",
              "      <td>1</td>\n",
              "      <td>1</td>\n",
              "      <td>1</td>\n",
              "      <td>1</td>\n",
              "      <td>1</td>\n",
              "      <td>1</td>\n",
              "      <td>1</td>\n",
              "      <td>1</td>\n",
              "      <td>0</td>\n",
              "      <td>1</td>\n",
              "      <td>0</td>\n",
              "      <td>1</td>\n",
              "      <td>1</td>\n",
              "      <td>1</td>\n",
              "      <td>0</td>\n",
              "      <td>0</td>\n",
              "      <td>0</td>\n",
              "      <td>0</td>\n",
              "      <td>0</td>\n",
              "      <td>0</td>\n",
              "    </tr>\n",
              "    <tr>\n",
              "      <th>3</th>\n",
              "      <td>1</td>\n",
              "      <td>1</td>\n",
              "      <td>1</td>\n",
              "      <td>0</td>\n",
              "      <td>0</td>\n",
              "      <td>1</td>\n",
              "      <td>0</td>\n",
              "      <td>0</td>\n",
              "      <td>1</td>\n",
              "      <td>1</td>\n",
              "      <td>0</td>\n",
              "      <td>0</td>\n",
              "      <td>0</td>\n",
              "      <td>1</td>\n",
              "      <td>0</td>\n",
              "      <td>1</td>\n",
              "      <td>1</td>\n",
              "      <td>0</td>\n",
              "      <td>0</td>\n",
              "      <td>0</td>\n",
              "    </tr>\n",
              "    <tr>\n",
              "      <th>4</th>\n",
              "      <td>1</td>\n",
              "      <td>1</td>\n",
              "      <td>1</td>\n",
              "      <td>1</td>\n",
              "      <td>1</td>\n",
              "      <td>0</td>\n",
              "      <td>1</td>\n",
              "      <td>1</td>\n",
              "      <td>1</td>\n",
              "      <td>1</td>\n",
              "      <td>1</td>\n",
              "      <td>0</td>\n",
              "      <td>1</td>\n",
              "      <td>0</td>\n",
              "      <td>1</td>\n",
              "      <td>0</td>\n",
              "      <td>1</td>\n",
              "      <td>0</td>\n",
              "      <td>0</td>\n",
              "      <td>0</td>\n",
              "    </tr>\n",
              "    <tr>\n",
              "      <th>5</th>\n",
              "      <td>1</td>\n",
              "      <td>1</td>\n",
              "      <td>1</td>\n",
              "      <td>0</td>\n",
              "      <td>0</td>\n",
              "      <td>0</td>\n",
              "      <td>0</td>\n",
              "      <td>0</td>\n",
              "      <td>1</td>\n",
              "      <td>0</td>\n",
              "      <td>1</td>\n",
              "      <td>0</td>\n",
              "      <td>0</td>\n",
              "      <td>0</td>\n",
              "      <td>0</td>\n",
              "      <td>0</td>\n",
              "      <td>0</td>\n",
              "      <td>0</td>\n",
              "      <td>0</td>\n",
              "      <td>0</td>\n",
              "    </tr>\n",
              "    <tr>\n",
              "      <th>6</th>\n",
              "      <td>1</td>\n",
              "      <td>1</td>\n",
              "      <td>1</td>\n",
              "      <td>0</td>\n",
              "      <td>0</td>\n",
              "      <td>0</td>\n",
              "      <td>1</td>\n",
              "      <td>0</td>\n",
              "      <td>1</td>\n",
              "      <td>1</td>\n",
              "      <td>1</td>\n",
              "      <td>1</td>\n",
              "      <td>1</td>\n",
              "      <td>0</td>\n",
              "      <td>0</td>\n",
              "      <td>1</td>\n",
              "      <td>1</td>\n",
              "      <td>1</td>\n",
              "      <td>0</td>\n",
              "      <td>0</td>\n",
              "    </tr>\n",
              "    <tr>\n",
              "      <th>...</th>\n",
              "      <td>...</td>\n",
              "      <td>...</td>\n",
              "      <td>...</td>\n",
              "      <td>...</td>\n",
              "      <td>...</td>\n",
              "      <td>...</td>\n",
              "      <td>...</td>\n",
              "      <td>...</td>\n",
              "      <td>...</td>\n",
              "      <td>...</td>\n",
              "      <td>...</td>\n",
              "      <td>...</td>\n",
              "      <td>...</td>\n",
              "      <td>...</td>\n",
              "      <td>...</td>\n",
              "      <td>...</td>\n",
              "      <td>...</td>\n",
              "      <td>...</td>\n",
              "      <td>...</td>\n",
              "      <td>...</td>\n",
              "    </tr>\n",
              "    <tr>\n",
              "      <th>5429</th>\n",
              "      <td>1</td>\n",
              "      <td>1</td>\n",
              "      <td>0</td>\n",
              "      <td>1</td>\n",
              "      <td>1</td>\n",
              "      <td>1</td>\n",
              "      <td>1</td>\n",
              "      <td>0</td>\n",
              "      <td>0</td>\n",
              "      <td>0</td>\n",
              "      <td>0</td>\n",
              "      <td>1</td>\n",
              "      <td>1</td>\n",
              "      <td>0</td>\n",
              "      <td>0</td>\n",
              "      <td>0</td>\n",
              "      <td>0</td>\n",
              "      <td>0</td>\n",
              "      <td>0</td>\n",
              "      <td>0</td>\n",
              "    </tr>\n",
              "    <tr>\n",
              "      <th>5430</th>\n",
              "      <td>1</td>\n",
              "      <td>1</td>\n",
              "      <td>1</td>\n",
              "      <td>0</td>\n",
              "      <td>1</td>\n",
              "      <td>1</td>\n",
              "      <td>0</td>\n",
              "      <td>1</td>\n",
              "      <td>0</td>\n",
              "      <td>1</td>\n",
              "      <td>1</td>\n",
              "      <td>1</td>\n",
              "      <td>0</td>\n",
              "      <td>0</td>\n",
              "      <td>0</td>\n",
              "      <td>0</td>\n",
              "      <td>0</td>\n",
              "      <td>0</td>\n",
              "      <td>0</td>\n",
              "      <td>0</td>\n",
              "    </tr>\n",
              "    <tr>\n",
              "      <th>5431</th>\n",
              "      <td>1</td>\n",
              "      <td>1</td>\n",
              "      <td>1</td>\n",
              "      <td>0</td>\n",
              "      <td>0</td>\n",
              "      <td>0</td>\n",
              "      <td>0</td>\n",
              "      <td>0</td>\n",
              "      <td>1</td>\n",
              "      <td>0</td>\n",
              "      <td>1</td>\n",
              "      <td>0</td>\n",
              "      <td>0</td>\n",
              "      <td>0</td>\n",
              "      <td>0</td>\n",
              "      <td>0</td>\n",
              "      <td>0</td>\n",
              "      <td>0</td>\n",
              "      <td>0</td>\n",
              "      <td>0</td>\n",
              "    </tr>\n",
              "    <tr>\n",
              "      <th>5432</th>\n",
              "      <td>1</td>\n",
              "      <td>1</td>\n",
              "      <td>1</td>\n",
              "      <td>0</td>\n",
              "      <td>1</td>\n",
              "      <td>0</td>\n",
              "      <td>0</td>\n",
              "      <td>1</td>\n",
              "      <td>1</td>\n",
              "      <td>0</td>\n",
              "      <td>0</td>\n",
              "      <td>0</td>\n",
              "      <td>0</td>\n",
              "      <td>0</td>\n",
              "      <td>0</td>\n",
              "      <td>0</td>\n",
              "      <td>0</td>\n",
              "      <td>0</td>\n",
              "      <td>0</td>\n",
              "      <td>0</td>\n",
              "    </tr>\n",
              "    <tr>\n",
              "      <th>5433</th>\n",
              "      <td>1</td>\n",
              "      <td>1</td>\n",
              "      <td>1</td>\n",
              "      <td>0</td>\n",
              "      <td>1</td>\n",
              "      <td>1</td>\n",
              "      <td>0</td>\n",
              "      <td>1</td>\n",
              "      <td>0</td>\n",
              "      <td>1</td>\n",
              "      <td>1</td>\n",
              "      <td>1</td>\n",
              "      <td>0</td>\n",
              "      <td>0</td>\n",
              "      <td>0</td>\n",
              "      <td>0</td>\n",
              "      <td>0</td>\n",
              "      <td>0</td>\n",
              "      <td>0</td>\n",
              "      <td>0</td>\n",
              "    </tr>\n",
              "  </tbody>\n",
              "</table>\n",
              "<p>5432 rows × 20 columns</p>\n",
              "</div>"
            ],
            "text/plain": [
              "      Breathing Problem  Fever  ...  Wearing Masks  Sanitization from Market\n",
              "2                     1      1  ...              0                         0\n",
              "3                     1      1  ...              0                         0\n",
              "4                     1      1  ...              0                         0\n",
              "5                     1      1  ...              0                         0\n",
              "6                     1      1  ...              0                         0\n",
              "...                 ...    ...  ...            ...                       ...\n",
              "5429                  1      1  ...              0                         0\n",
              "5430                  1      1  ...              0                         0\n",
              "5431                  1      1  ...              0                         0\n",
              "5432                  1      1  ...              0                         0\n",
              "5433                  1      1  ...              0                         0\n",
              "\n",
              "[5432 rows x 20 columns]"
            ]
          },
          "metadata": {},
          "execution_count": 23
        }
      ]
    },
    {
      "cell_type": "code",
      "metadata": {
        "colab": {
          "base_uri": "https://localhost:8080/"
        },
        "id": "fTiqvLSHE-4F",
        "outputId": "4e993750-0ab7-4a58-fd05-963ba7ada2d0"
      },
      "source": [
        "train_dataset.keys()"
      ],
      "execution_count": null,
      "outputs": [
        {
          "output_type": "execute_result",
          "data": {
            "text/plain": [
              "Index(['Breathing Problem', 'Fever', 'Dry Cough', 'Sore throat',\n",
              "       'Running Nose', 'Asthma', 'Chronic Lung Disease', 'Headache',\n",
              "       'Heart Disease', 'Diabetes', 'Hyper Tension', 'Fatigue ',\n",
              "       'Gastrointestinal ', 'Abroad travel', 'Contact with COVID Patient',\n",
              "       'Attended Large Gathering', 'Visited Public Exposed Places',\n",
              "       'Family working in Public Exposed Places', 'Wearing Masks',\n",
              "       'Sanitization from Market'],\n",
              "      dtype='object')"
            ]
          },
          "metadata": {},
          "execution_count": 24
        }
      ]
    },
    {
      "cell_type": "code",
      "metadata": {
        "colab": {
          "base_uri": "https://localhost:8080/"
        },
        "id": "cfytEBO0UGXT",
        "outputId": "68071e2a-615c-4c79-ad8d-04ae688d1070"
      },
      "source": [
        "model.predict([[1,1,1,1,1,1,1,1,0,1,0,1,1,1,0,0,0,0,0,0]]).dtype"
      ],
      "execution_count": null,
      "outputs": [
        {
          "output_type": "execute_result",
          "data": {
            "text/plain": [
              "dtype('float32')"
            ]
          },
          "metadata": {},
          "execution_count": 25
        }
      ]
    },
    {
      "cell_type": "code",
      "metadata": {
        "colab": {
          "base_uri": "https://localhost:8080/"
        },
        "id": "YZuMjv3pD_az",
        "outputId": "fbb5dd01-03a8-4028-efcb-2f7a1d16fc3b"
      },
      "source": [
        "if(model.predict([[1,1,1,1,1,1,1,1,0,1,0,1,1,1,0,0,0,0,0,0]])[0][0]==1):\n",
        "  print(\"you have covid-19\")\n",
        "else:\n",
        "  print(\"You have not covid\")  "
      ],
      "execution_count": null,
      "outputs": [
        {
          "output_type": "stream",
          "name": "stdout",
          "text": [
            "you have covid-19\n"
          ]
        }
      ]
    },
    {
      "cell_type": "code",
      "metadata": {
        "colab": {
          "base_uri": "https://localhost:8080/"
        },
        "id": "dmwyncveFIcX",
        "outputId": "58894451-02b1-4e62-8c57-d16f43667acb"
      },
      "source": [
        "test_labels"
      ],
      "execution_count": null,
      "outputs": [
        {
          "output_type": "execute_result",
          "data": {
            "text/plain": [
              "2       1\n",
              "3       1\n",
              "4       1\n",
              "5       1\n",
              "6       1\n",
              "       ..\n",
              "5429    1\n",
              "5430    1\n",
              "5431    0\n",
              "5432    0\n",
              "5433    0\n",
              "Name: COVID-19, Length: 5432, dtype: int64"
            ]
          },
          "metadata": {},
          "execution_count": 27
        }
      ]
    },
    {
      "cell_type": "code",
      "metadata": {
        "colab": {
          "base_uri": "https://localhost:8080/"
        },
        "id": "qxBdWT_6asD-",
        "outputId": "dc957834-2484-41ea-ea36-8e13aaa558bd"
      },
      "source": [
        "keras_file= \"covid19.h5\"\n",
        "tf.keras.models.save_model(model,keras_file)\n",
        "converter = tf.lite.TFLiteConverter.from_keras_model(model)\n",
        "tfmodel = converter.convert()\n",
        "open(\"covid19.tflite\",\"wb\").write(tfmodel)"
      ],
      "execution_count": null,
      "outputs": [
        {
          "output_type": "stream",
          "name": "stdout",
          "text": [
            "INFO:tensorflow:Assets written to: /tmp/tmph4cy4bbx/assets\n"
          ]
        },
        {
          "output_type": "execute_result",
          "data": {
            "text/plain": [
              "78864"
            ]
          },
          "metadata": {},
          "execution_count": 28
        }
      ]
    },
    {
      "cell_type": "code",
      "metadata": {
        "id": "YQ1EJGJGcoAZ"
      },
      "source": [
        "##For Web Version"
      ],
      "execution_count": null,
      "outputs": []
    },
    {
      "cell_type": "code",
      "metadata": {
        "colab": {
          "base_uri": "https://localhost:8080/",
          "height": 310
        },
        "id": "h5G1O2c-1IWV",
        "outputId": "aebf5de6-c83f-423c-d47c-9e24d1a570ff"
      },
      "source": [
        "covid_data.tail()"
      ],
      "execution_count": null,
      "outputs": [
        {
          "output_type": "execute_result",
          "data": {
            "text/html": [
              "<div>\n",
              "<style scoped>\n",
              "    .dataframe tbody tr th:only-of-type {\n",
              "        vertical-align: middle;\n",
              "    }\n",
              "\n",
              "    .dataframe tbody tr th {\n",
              "        vertical-align: top;\n",
              "    }\n",
              "\n",
              "    .dataframe thead th {\n",
              "        text-align: right;\n",
              "    }\n",
              "</style>\n",
              "<table border=\"1\" class=\"dataframe\">\n",
              "  <thead>\n",
              "    <tr style=\"text-align: right;\">\n",
              "      <th></th>\n",
              "      <th>Breathing Problem</th>\n",
              "      <th>Fever</th>\n",
              "      <th>Dry Cough</th>\n",
              "      <th>Sore throat</th>\n",
              "      <th>Running Nose</th>\n",
              "      <th>Asthma</th>\n",
              "      <th>Chronic Lung Disease</th>\n",
              "      <th>Headache</th>\n",
              "      <th>Heart Disease</th>\n",
              "      <th>Diabetes</th>\n",
              "      <th>Hyper Tension</th>\n",
              "      <th>Fatigue</th>\n",
              "      <th>Gastrointestinal</th>\n",
              "      <th>Abroad travel</th>\n",
              "      <th>Contact with COVID Patient</th>\n",
              "      <th>Attended Large Gathering</th>\n",
              "      <th>Visited Public Exposed Places</th>\n",
              "      <th>Family working in Public Exposed Places</th>\n",
              "      <th>Wearing Masks</th>\n",
              "      <th>Sanitization from Market</th>\n",
              "      <th>COVID-19</th>\n",
              "    </tr>\n",
              "  </thead>\n",
              "  <tbody>\n",
              "    <tr>\n",
              "      <th>5429</th>\n",
              "      <td>1</td>\n",
              "      <td>1</td>\n",
              "      <td>0</td>\n",
              "      <td>1</td>\n",
              "      <td>1</td>\n",
              "      <td>1</td>\n",
              "      <td>1</td>\n",
              "      <td>0</td>\n",
              "      <td>0</td>\n",
              "      <td>0</td>\n",
              "      <td>0</td>\n",
              "      <td>1</td>\n",
              "      <td>1</td>\n",
              "      <td>0</td>\n",
              "      <td>0</td>\n",
              "      <td>0</td>\n",
              "      <td>0</td>\n",
              "      <td>0</td>\n",
              "      <td>0</td>\n",
              "      <td>0</td>\n",
              "      <td>1</td>\n",
              "    </tr>\n",
              "    <tr>\n",
              "      <th>5430</th>\n",
              "      <td>1</td>\n",
              "      <td>1</td>\n",
              "      <td>1</td>\n",
              "      <td>0</td>\n",
              "      <td>1</td>\n",
              "      <td>1</td>\n",
              "      <td>0</td>\n",
              "      <td>1</td>\n",
              "      <td>0</td>\n",
              "      <td>1</td>\n",
              "      <td>1</td>\n",
              "      <td>1</td>\n",
              "      <td>0</td>\n",
              "      <td>0</td>\n",
              "      <td>0</td>\n",
              "      <td>0</td>\n",
              "      <td>0</td>\n",
              "      <td>0</td>\n",
              "      <td>0</td>\n",
              "      <td>0</td>\n",
              "      <td>1</td>\n",
              "    </tr>\n",
              "    <tr>\n",
              "      <th>5431</th>\n",
              "      <td>1</td>\n",
              "      <td>1</td>\n",
              "      <td>1</td>\n",
              "      <td>0</td>\n",
              "      <td>0</td>\n",
              "      <td>0</td>\n",
              "      <td>0</td>\n",
              "      <td>0</td>\n",
              "      <td>1</td>\n",
              "      <td>0</td>\n",
              "      <td>1</td>\n",
              "      <td>0</td>\n",
              "      <td>0</td>\n",
              "      <td>0</td>\n",
              "      <td>0</td>\n",
              "      <td>0</td>\n",
              "      <td>0</td>\n",
              "      <td>0</td>\n",
              "      <td>0</td>\n",
              "      <td>0</td>\n",
              "      <td>0</td>\n",
              "    </tr>\n",
              "    <tr>\n",
              "      <th>5432</th>\n",
              "      <td>1</td>\n",
              "      <td>1</td>\n",
              "      <td>1</td>\n",
              "      <td>0</td>\n",
              "      <td>1</td>\n",
              "      <td>0</td>\n",
              "      <td>0</td>\n",
              "      <td>1</td>\n",
              "      <td>1</td>\n",
              "      <td>0</td>\n",
              "      <td>0</td>\n",
              "      <td>0</td>\n",
              "      <td>0</td>\n",
              "      <td>0</td>\n",
              "      <td>0</td>\n",
              "      <td>0</td>\n",
              "      <td>0</td>\n",
              "      <td>0</td>\n",
              "      <td>0</td>\n",
              "      <td>0</td>\n",
              "      <td>0</td>\n",
              "    </tr>\n",
              "    <tr>\n",
              "      <th>5433</th>\n",
              "      <td>1</td>\n",
              "      <td>1</td>\n",
              "      <td>1</td>\n",
              "      <td>0</td>\n",
              "      <td>1</td>\n",
              "      <td>1</td>\n",
              "      <td>0</td>\n",
              "      <td>1</td>\n",
              "      <td>0</td>\n",
              "      <td>1</td>\n",
              "      <td>1</td>\n",
              "      <td>1</td>\n",
              "      <td>0</td>\n",
              "      <td>0</td>\n",
              "      <td>0</td>\n",
              "      <td>0</td>\n",
              "      <td>0</td>\n",
              "      <td>0</td>\n",
              "      <td>0</td>\n",
              "      <td>0</td>\n",
              "      <td>0</td>\n",
              "    </tr>\n",
              "  </tbody>\n",
              "</table>\n",
              "</div>"
            ],
            "text/plain": [
              "      Breathing Problem  Fever  ...  Sanitization from Market  COVID-19\n",
              "5429                  1      1  ...                         0         1\n",
              "5430                  1      1  ...                         0         1\n",
              "5431                  1      1  ...                         0         0\n",
              "5432                  1      1  ...                         0         0\n",
              "5433                  1      1  ...                         0         0\n",
              "\n",
              "[5 rows x 21 columns]"
            ]
          },
          "metadata": {},
          "execution_count": 51
        }
      ]
    },
    {
      "cell_type": "code",
      "metadata": {
        "id": "ZMQ4Qb3z1cwM"
      },
      "source": [
        "# input Variable\n",
        "X=covid_data.drop(['COVID-19'],axis=1)\n",
        "y=covid_data['COVID-19']"
      ],
      "execution_count": null,
      "outputs": []
    },
    {
      "cell_type": "code",
      "metadata": {
        "id": "LiwnTThH1tFz"
      },
      "source": [
        "from sklearn.model_selection import train_test_split\n",
        "X_train,X_test,y_train,y_test=train_test_split(X,y,test_size=0.2,random_state=2020)\n",
        "# spilitting of data in X_train,X_test,y_train,y_test"
      ],
      "execution_count": null,
      "outputs": []
    },
    {
      "cell_type": "code",
      "metadata": {
        "id": "XJK1U_-p3057"
      },
      "source": [
        "#SVC"
      ],
      "execution_count": null,
      "outputs": []
    },
    {
      "cell_type": "code",
      "metadata": {
        "colab": {
          "base_uri": "https://localhost:8080/"
        },
        "id": "tHZYl4UQ3i2j",
        "outputId": "3562c89f-9ef8-4d11-9d19-c17a71093f62"
      },
      "source": [
        "from sklearn.svm import SVC\n",
        "support_vector_classifier=SVC(kernel='rbf')# we use that in bydeafault parameter\n",
        "support_vector_classifier.fit(X_train,y_train)\n",
        "support_vector_classifier.score(X_test,y_test)"
      ],
      "execution_count": null,
      "outputs": [
        {
          "output_type": "execute_result",
          "data": {
            "text/plain": [
              "0.9724011039558418"
            ]
          },
          "metadata": {},
          "execution_count": 34
        }
      ]
    },
    {
      "cell_type": "code",
      "metadata": {
        "id": "R9b-1VkB7FAc"
      },
      "source": [
        "#KNN Classifier"
      ],
      "execution_count": null,
      "outputs": []
    },
    {
      "cell_type": "code",
      "metadata": {
        "colab": {
          "base_uri": "https://localhost:8080/"
        },
        "id": "ACrawWQ333dr",
        "outputId": "c595e59f-e086-47b5-fb4d-9eed98a66d54"
      },
      "source": [
        "from sklearn.neighbors import KNeighborsClassifier\n",
        "knnc=KNeighborsClassifier(n_neighbors=5,p=2)\n",
        "knnc.fit(X_train,y_train)\n",
        "knnc.score(X_test,y_test)"
      ],
      "execution_count": null,
      "outputs": [
        {
          "output_type": "execute_result",
          "data": {
            "text/plain": [
              "0.9779208831646734"
            ]
          },
          "metadata": {},
          "execution_count": 36
        }
      ]
    },
    {
      "cell_type": "code",
      "metadata": {
        "id": "u-5_iDKg7KjM"
      },
      "source": [
        "#LogisticRegression"
      ],
      "execution_count": null,
      "outputs": []
    },
    {
      "cell_type": "code",
      "metadata": {
        "colab": {
          "base_uri": "https://localhost:8080/"
        },
        "id": "OFDw1GbP4irm",
        "outputId": "abe29d45-4a28-4097-e5db-4054e9bef7a1"
      },
      "source": [
        "from sklearn.linear_model import LogisticRegression\n",
        "lr=LogisticRegression()\n",
        "lr.fit(X_train,y_train)\n",
        "lr.score(X_test,y_test)"
      ],
      "execution_count": null,
      "outputs": [
        {
          "output_type": "execute_result",
          "data": {
            "text/plain": [
              "0.9678012879484821"
            ]
          },
          "metadata": {},
          "execution_count": 38
        }
      ]
    },
    {
      "cell_type": "code",
      "metadata": {
        "id": "t3XMt11i7N-b"
      },
      "source": [
        "#DecisionTreeClassifier"
      ],
      "execution_count": null,
      "outputs": []
    },
    {
      "cell_type": "code",
      "metadata": {
        "colab": {
          "base_uri": "https://localhost:8080/"
        },
        "id": "GKWSdcDh5BPD",
        "outputId": "675f65a6-7e70-4580-e271-42db07c9f5e7"
      },
      "source": [
        "from sklearn.tree import DecisionTreeClassifier\n",
        "dtc=DecisionTreeClassifier(criterion='gini')\n",
        "dtc.fit(X_train,y_train)\n",
        "dtc.score(X_test,y_test)"
      ],
      "execution_count": null,
      "outputs": [
        {
          "output_type": "execute_result",
          "data": {
            "text/plain": [
              "0.9806807727690893"
            ]
          },
          "metadata": {},
          "execution_count": 40
        }
      ]
    },
    {
      "cell_type": "code",
      "metadata": {
        "id": "nRfkCuiL7f1b"
      },
      "source": [
        "#RandomForestClassifier"
      ],
      "execution_count": null,
      "outputs": []
    },
    {
      "cell_type": "code",
      "metadata": {
        "colab": {
          "base_uri": "https://localhost:8080/"
        },
        "id": "9gggqdlj5U1k",
        "outputId": "711c445e-a740-4fc2-c476-6e169cdba94c"
      },
      "source": [
        "from sklearn.ensemble import RandomForestClassifier\n",
        "rfc=RandomForestClassifier( n_estimators=200,criterion='gini')\n",
        "rfc.fit(X_train,y_train)\n",
        "rfc.score(X_test,y_test)"
      ],
      "execution_count": null,
      "outputs": [
        {
          "output_type": "execute_result",
          "data": {
            "text/plain": [
              "0.9806807727690893"
            ]
          },
          "metadata": {},
          "execution_count": 42
        }
      ]
    },
    {
      "cell_type": "code",
      "metadata": {
        "id": "MlxNfzKS7j7D"
      },
      "source": [
        "#XGBClassifier"
      ],
      "execution_count": null,
      "outputs": []
    },
    {
      "cell_type": "code",
      "metadata": {
        "colab": {
          "base_uri": "https://localhost:8080/"
        },
        "id": "vu1syuqs5fnk",
        "outputId": "a7f1585f-4c53-4730-e71c-d3f1a0dc7b8d"
      },
      "source": [
        "from xgboost import XGBClassifier\n",
        "XGB_Classifier=XGBClassifier()\n",
        "XGB_Classifier.fit(X_train,y_train)\n",
        "XGB_Classifier.score(X_test,y_test)"
      ],
      "execution_count": null,
      "outputs": [
        {
          "output_type": "execute_result",
          "data": {
            "text/plain": [
              "0.9714811407543699"
            ]
          },
          "metadata": {},
          "execution_count": 44
        }
      ]
    },
    {
      "cell_type": "code",
      "metadata": {
        "id": "w7skixgi7m7E"
      },
      "source": [
        "#For saving the model"
      ],
      "execution_count": null,
      "outputs": []
    },
    {
      "cell_type": "code",
      "metadata": {
        "id": "iKJ1RDEos48I"
      },
      "source": [
        "import pickle\n",
        "with open(\"covidPrediction.pkl\",\"wb+\") as f:\n",
        "    pickle.dump(dtc,f)"
      ],
      "execution_count": null,
      "outputs": []
    },
    {
      "cell_type": "code",
      "metadata": {
        "id": "QU6Dbt6s6bIl"
      },
      "source": [
        "import joblib\n",
        "filename='covid19_Prediction.sav'\n",
        "joblib.dump(dtc,filename)\n",
        "#if You want to use that model\n",
        "model2=joblib.load('covid19_Prediction.sav')"
      ],
      "execution_count": null,
      "outputs": []
    },
    {
      "cell_type": "code",
      "metadata": {
        "id": "HXMqJqtVuX4U"
      },
      "source": [
        "model=pickle.load(open('covidPrediction.pkl','rb+'))"
      ],
      "execution_count": null,
      "outputs": []
    },
    {
      "cell_type": "code",
      "metadata": {
        "id": "T19r8Nvj66J8"
      },
      "source": [
        "patient1=[1,1,1,1,1,0,0,0,0,1,1,1,1,0,1,0,1,1,0,0]\n",
        "patient2=[1,1,1,0,0,0,0,0,1,0,1,0,0,0,0,0,0,0,0,0]"
      ],
      "execution_count": null,
      "outputs": []
    },
    {
      "cell_type": "code",
      "metadata": {
        "colab": {
          "base_uri": "https://localhost:8080/"
        },
        "id": "CGMGy5uSfq2Q",
        "outputId": "896e7d0c-135c-4904-bf64-7fb215a8b955"
      },
      "source": [
        "import numpy as np\n",
        "#Convert the data to 2D array\n",
        "patient1=np.array([patient1])\n",
        "patient1\n",
        "patient2=np.array([patient2])\n",
        "patient2"
      ],
      "execution_count": null,
      "outputs": [
        {
          "output_type": "execute_result",
          "data": {
            "text/plain": [
              "array([[1, 1, 1, 0, 0, 0, 0, 0, 1, 0, 1, 0, 0, 0, 0, 0, 0, 0, 0, 0]])"
            ]
          },
          "metadata": {},
          "execution_count": 64
        }
      ]
    },
    {
      "cell_type": "code",
      "metadata": {
        "id": "3rwr0uuLfv9o"
      },
      "source": [
        "pred=model.predict(patient2)"
      ],
      "execution_count": null,
      "outputs": []
    },
    {
      "cell_type": "code",
      "metadata": {
        "colab": {
          "base_uri": "https://localhost:8080/"
        },
        "id": "edBjXF7vfy1R",
        "outputId": "94342812-d406-4c7c-fc27-3716c1dc6dca"
      },
      "source": [
        "if pred[0]==0:\n",
        "    print(\"you dont have corona\")\n",
        "else:\n",
        "    print(\"you amy have corona\")"
      ],
      "execution_count": null,
      "outputs": [
        {
          "output_type": "stream",
          "name": "stdout",
          "text": [
            "you dont have corona\n"
          ]
        }
      ]
    },
    {
      "cell_type": "code",
      "metadata": {
        "id": "_HFoe0r5f_SG"
      },
      "source": [
        ""
      ],
      "execution_count": null,
      "outputs": []
    }
  ]
}